{
 "cells": [
  {
   "cell_type": "code",
   "execution_count": 17,
   "metadata": {
    "ExecuteTime": {
     "start_time": "2023-04-01T14:37:20.800543Z",
     "end_time": "2023-04-01T14:37:20.804727Z"
    }
   },
   "outputs": [],
   "source": [
    "import pandas as pd\n",
    "import numpy as np\n",
    "import math\n",
    "\n",
    "def warn(*args, **kwargs):\n",
    "    pass\n",
    "import warnings\n",
    "warnings.warn = warn\n",
    "\n",
    "# for training and evaluation\n",
    "from sklearn.model_selection import train_test_split\n",
    "from sklearn.decomposition import PCA\n",
    "from sklearn.linear_model import Ridge\n",
    "from sklearn.metrics import mean_squared_error\n",
    "\n",
    "# for optimize\n",
    "from skopt import gp_minimize, Optimizer\n",
    "from skopt.space import Space, Integer, Real\n",
    "\n",
    "from sklearn.gaussian_process import GaussianProcessRegressor\n",
    "from sklearn.gaussian_process.kernels import ConstantKernel, Matern\n",
    "\n",
    "# custom packages\n",
    "from bayes_opt import custom_minimize, resume_optimize\n",
    "from agent import AgentBase\n",
    "\n",
    "import matplotlib.pyplot as plt\n"
   ]
  },
  {
   "cell_type": "code",
   "execution_count": 18,
   "metadata": {
    "ExecuteTime": {
     "start_time": "2023-04-01T14:37:20.937567Z",
     "end_time": "2023-04-01T14:37:20.940445Z"
    }
   },
   "outputs": [],
   "source": [
    "# meta config\n",
    "random_seed = 2022"
   ]
  },
  {
   "cell_type": "code",
   "execution_count": 19,
   "metadata": {
    "ExecuteTime": {
     "start_time": "2023-04-01T14:37:21.102433Z",
     "end_time": "2023-04-01T14:37:21.112305Z"
    }
   },
   "outputs": [
    {
     "data": {
      "text/plain": "      crim    zn  indus  chas    nox     rm   age     dis  rad  tax  ptratio  \\\n0  0.00632  18.0   2.31     0  0.538  6.575  65.2  4.0900    1  296     15.3   \n1  0.02731   0.0   7.07     0  0.469  6.421  78.9  4.9671    2  242     17.8   \n2  0.02729   0.0   7.07     0  0.469  7.185  61.1  4.9671    2  242     17.8   \n3  0.03237   0.0   2.18     0  0.458  6.998  45.8  6.0622    3  222     18.7   \n4  0.06905   0.0   2.18     0  0.458  7.147  54.2  6.0622    3  222     18.7   \n\n        b  lstat  medv  \n0  396.90   4.98  24.0  \n1  396.90   9.14  21.6  \n2  392.83   4.03  34.7  \n3  394.63   2.94  33.4  \n4  396.90   5.33  36.2  ",
      "text/html": "<div>\n<style scoped>\n    .dataframe tbody tr th:only-of-type {\n        vertical-align: middle;\n    }\n\n    .dataframe tbody tr th {\n        vertical-align: top;\n    }\n\n    .dataframe thead th {\n        text-align: right;\n    }\n</style>\n<table border=\"1\" class=\"dataframe\">\n  <thead>\n    <tr style=\"text-align: right;\">\n      <th></th>\n      <th>crim</th>\n      <th>zn</th>\n      <th>indus</th>\n      <th>chas</th>\n      <th>nox</th>\n      <th>rm</th>\n      <th>age</th>\n      <th>dis</th>\n      <th>rad</th>\n      <th>tax</th>\n      <th>ptratio</th>\n      <th>b</th>\n      <th>lstat</th>\n      <th>medv</th>\n    </tr>\n  </thead>\n  <tbody>\n    <tr>\n      <th>0</th>\n      <td>0.00632</td>\n      <td>18.0</td>\n      <td>2.31</td>\n      <td>0</td>\n      <td>0.538</td>\n      <td>6.575</td>\n      <td>65.2</td>\n      <td>4.0900</td>\n      <td>1</td>\n      <td>296</td>\n      <td>15.3</td>\n      <td>396.90</td>\n      <td>4.98</td>\n      <td>24.0</td>\n    </tr>\n    <tr>\n      <th>1</th>\n      <td>0.02731</td>\n      <td>0.0</td>\n      <td>7.07</td>\n      <td>0</td>\n      <td>0.469</td>\n      <td>6.421</td>\n      <td>78.9</td>\n      <td>4.9671</td>\n      <td>2</td>\n      <td>242</td>\n      <td>17.8</td>\n      <td>396.90</td>\n      <td>9.14</td>\n      <td>21.6</td>\n    </tr>\n    <tr>\n      <th>2</th>\n      <td>0.02729</td>\n      <td>0.0</td>\n      <td>7.07</td>\n      <td>0</td>\n      <td>0.469</td>\n      <td>7.185</td>\n      <td>61.1</td>\n      <td>4.9671</td>\n      <td>2</td>\n      <td>242</td>\n      <td>17.8</td>\n      <td>392.83</td>\n      <td>4.03</td>\n      <td>34.7</td>\n    </tr>\n    <tr>\n      <th>3</th>\n      <td>0.03237</td>\n      <td>0.0</td>\n      <td>2.18</td>\n      <td>0</td>\n      <td>0.458</td>\n      <td>6.998</td>\n      <td>45.8</td>\n      <td>6.0622</td>\n      <td>3</td>\n      <td>222</td>\n      <td>18.7</td>\n      <td>394.63</td>\n      <td>2.94</td>\n      <td>33.4</td>\n    </tr>\n    <tr>\n      <th>4</th>\n      <td>0.06905</td>\n      <td>0.0</td>\n      <td>2.18</td>\n      <td>0</td>\n      <td>0.458</td>\n      <td>7.147</td>\n      <td>54.2</td>\n      <td>6.0622</td>\n      <td>3</td>\n      <td>222</td>\n      <td>18.7</td>\n      <td>396.90</td>\n      <td>5.33</td>\n      <td>36.2</td>\n    </tr>\n  </tbody>\n</table>\n</div>"
     },
     "execution_count": 19,
     "metadata": {},
     "output_type": "execute_result"
    }
   ],
   "source": [
    "data = pd.read_csv(\"./data/boston_housing.csv\")\n",
    "data.head(5)"
   ]
  },
  {
   "cell_type": "code",
   "execution_count": 20,
   "metadata": {
    "ExecuteTime": {
     "start_time": "2023-04-01T14:37:21.239343Z",
     "end_time": "2023-04-01T14:37:21.242249Z"
    }
   },
   "outputs": [],
   "source": [
    "X = data.drop(columns=['medv'])\n",
    "y = data['medv'].values"
   ]
  },
  {
   "cell_type": "code",
   "execution_count": 21,
   "metadata": {
    "ExecuteTime": {
     "start_time": "2023-04-01T14:37:21.395312Z",
     "end_time": "2023-04-01T14:37:21.399663Z"
    }
   },
   "outputs": [],
   "source": [
    "X_train, X_test, y_train, y_test = train_test_split(\n",
    "             X, y, test_size=0.33, random_state=random_seed)"
   ]
  },
  {
   "cell_type": "code",
   "execution_count": 22,
   "metadata": {
    "ExecuteTime": {
     "start_time": "2023-04-01T14:37:21.517549Z",
     "end_time": "2023-04-01T14:37:21.521811Z"
    }
   },
   "outputs": [],
   "source": [
    "def train_and_evaluate(params):\n",
    "    n_components, alpha = params[0], params[1]\n",
    "    # PCA Analysis\n",
    "    pca = PCA(n_components=round(n_components))\n",
    "    pca.fit(X_train)\n",
    "    X_train_tranformed = pca.transform(X_train)\n",
    "    clf = Ridge(alpha=alpha).fit(X_train_tranformed, y_train)\n",
    "    X_test_transformed = pca.transform(X_test)\n",
    "    y_pred = clf.predict(X_test_transformed)\n",
    "    return mean_squared_error(y_test, y_pred)"
   ]
  },
  {
   "cell_type": "code",
   "execution_count": 23,
   "metadata": {
    "ExecuteTime": {
     "start_time": "2023-04-01T14:37:21.656013Z",
     "end_time": "2023-04-01T14:37:21.659025Z"
    }
   },
   "outputs": [],
   "source": [
    "space = Space((Integer(1, 12), Real(0.001, 10, prior=\"log-uniform\", base=10)))\n",
    "x0 = [(2, 1.0)]"
   ]
  },
  {
   "cell_type": "code",
   "execution_count": 24,
   "metadata": {
    "ExecuteTime": {
     "start_time": "2023-04-01T14:37:21.784794Z",
     "end_time": "2023-04-01T14:37:25.129102Z"
    }
   },
   "outputs": [],
   "source": [
    "res = gp_minimize(train_and_evaluate,        # the function to minimize\n",
    "                    space,      # the bounds on each dimension of x\n",
    "                    initial_point_generator=\"grid\",\n",
    "                    x0=x0,\n",
    "                    acq_func=\"EI\",      # the acquisition function\n",
    "                    n_calls=20,         # the number of evaluations of f\n",
    "                    n_random_starts=5,  # the number of random initialization points\n",
    "                    noise=\"gaussian\",       # the noise level (optional)\n",
    "                    n_jobs=-1,\n",
    "                    random_state=random_seed\n",
    "                )   # the random seed"
   ]
  },
  {
   "cell_type": "code",
   "execution_count": 25,
   "metadata": {
    "ExecuteTime": {
     "start_time": "2023-04-01T14:37:25.129569Z",
     "end_time": "2023-04-01T14:37:25.304955Z"
    }
   },
   "outputs": [
    {
     "data": {
      "text/plain": "[<matplotlib.lines.Line2D at 0x16a5305e0>]"
     },
     "execution_count": 25,
     "metadata": {},
     "output_type": "execute_result"
    },
    {
     "data": {
      "text/plain": "<Figure size 640x480 with 1 Axes>",
      "image/png": "[encoded data removed]"
     },
     "metadata": {},
     "output_type": "display_data"
    }
   ],
   "source": [
    "plt.plot(res.func_vals)"
   ]
  },
  {
   "cell_type": "code",
   "execution_count": 33,
   "metadata": {
    "ExecuteTime": {
     "start_time": "2023-04-01T14:38:25.926001Z",
     "end_time": "2023-04-01T14:38:25.932850Z"
    }
   },
   "outputs": [],
   "source": [
    "agent_a = AgentBase(dim=0, random_seed=random_seed)\n",
    "agent_b = AgentBase(dim=1, random_seed=random_seed)"
   ]
  },
  {
   "cell_type": "code",
   "execution_count": 34,
   "metadata": {
    "ExecuteTime": {
     "start_time": "2023-04-01T14:38:26.091125Z",
     "end_time": "2023-04-01T14:38:26.109241Z"
    }
   },
   "outputs": [],
   "source": [
    "res, optimizer = agent_a.initialize_model(\n",
    "                            train_and_evaluate, \n",
    "                            space, \n",
    "                            x0,\n",
    "                            initial_point_generator=\"grid\",\n",
    "                            acq_func=\"EI\",      # the acquisition function\n",
    "                            n_random_starts=10,         # the number of evaluations of f\n",
    "                        )"
   ]
  },
  {
   "cell_type": "code",
   "execution_count": 36,
   "metadata": {
    "ExecuteTime": {
     "start_time": "2023-04-01T14:38:26.443184Z",
     "end_time": "2023-04-01T14:38:28.119740Z"
    }
   },
   "outputs": [],
   "source": [
    "# params\n",
    "records = res.func_vals\n",
    "budget_a = budget_b = 5\n",
    "res_resume_b = res\n",
    "res_resume_a = None\n",
    "n_iter = 100\n",
    "\n",
    "for _ in range(n_iter):\n",
    "    if agent_a.has_improvement(next_res=res_resume_b, prev_res=res_resume_a) and \\\n",
    "                not agent_a.need_punish:\n",
    "        # Agent A iterates\n",
    "        agent_a.punish_count = 0\n",
    "        other_dim = agent_b.dim\n",
    "        other_val = res_resume_b.x[other_dim]\n",
    "\n",
    "        res_resume_a, optimizer, xs, ys = agent_a.update(\n",
    "                                            train_and_evaluate,\n",
    "                                            budget_a,\n",
    "                                            res_resume_b,\n",
    "                                            optimizer,\n",
    "                                            other_dim,\n",
    "                                            other_val\n",
    "                                            )\n",
    "        records = np.concatenate([records, ys])\n",
    "    else:\n",
    "        # if no improvement, punish\n",
    "        agent_a.punish_count += 1\n",
    "\n",
    "    if agent_b.has_improvement(next_res=res_resume_a, prev_res=res_resume_b) and \\\n",
    "                    not agent_b.need_punish:\n",
    "        # Agent B iterates\n",
    "        agent_b.punish_count = 0\n",
    "        other_dim = agent_a.dim\n",
    "        other_val = res_resume_a.x[other_dim]\n",
    "\n",
    "        res_resume_b, optimizer, xs, ys = agent_b.update(\n",
    "                                            train_and_evaluate,\n",
    "                                            budget_b,\n",
    "                                            res_resume_a,\n",
    "                                            optimizer,\n",
    "                                            other_dim,\n",
    "                                            other_val\n",
    "                                            )\n",
    "        records = np.concatenate([records, ys])\n",
    "    else:\n",
    "        # if no improvement, punish\n",
    "        agent_b.punish_count += 1"
   ]
  },
  {
   "cell_type": "code",
   "execution_count": 37,
   "metadata": {
    "ExecuteTime": {
     "start_time": "2023-04-01T14:38:28.106656Z",
     "end_time": "2023-04-01T14:38:28.269614Z"
    }
   },
   "outputs": [
    {
     "data": {
      "text/plain": "[<matplotlib.lines.Line2D at 0x16a5ac8b0>]"
     },
     "execution_count": 37,
     "metadata": {},
     "output_type": "execute_result"
    },
    {
     "data": {
      "text/plain": "<Figure size 640x480 with 1 Axes>",
      "image/png": "[encoded data removed]"
     },
     "metadata": {},
     "output_type": "display_data"
    }
   ],
   "source": [
    "plt.plot(records)"
   ]
  },
  {
   "cell_type": "code",
   "execution_count": null,
   "metadata": {},
   "outputs": [],
   "source": []
  }
 ],
 "metadata": {
  "kernelspec": {
   "display_name": "Python 3",
   "language": "python",
   "name": "python3"
  },
  "language_info": {
   "codemirror_mode": {
    "name": "ipython",
    "version": 3
   },
   "file_extension": ".py",
   "mimetype": "text/x-python",
   "name": "python",
   "nbconvert_exporter": "python",
   "pygments_lexer": "ipython3",
   "version": "3.8.6"
  },
  "vscode": {
   "interpreter": {
    "hash": "9bcbdaa40d10e1cdbe13a68ae85f7bb06c9208f46e203e5cd02c732d4b793f73"
   }
  }
 },
 "nbformat": 4,
 "nbformat_minor": 2
}
